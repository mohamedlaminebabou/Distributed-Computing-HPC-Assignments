{
 "cells": [
  {
   "cell_type": "markdown",
   "metadata": {},
   "source": [
    "## Imports"
   ]
  },
  {
   "cell_type": "code",
   "execution_count": 1,
   "metadata": {},
   "outputs": [],
   "source": [
    "import matplotlib.pyplot as plt\n",
    "import time\n",
    "import numpy as np\n",
    "import scipy as sp \n",
    "from numba import jit, prange\n",
    "from pyccel.epyccel import epyccel\n",
    "from pyccel.decorators import types\n",
    "import subprocess\n",
    "import os\n",
    "import shutil\n",
    "import sys\n",
    "import re\n",
    "import pytest"
   ]
  },
  {
   "cell_type": "markdown",
   "metadata": {},
   "source": [
    "## Pure python function"
   ]
  },
  {
   "cell_type": "code",
   "execution_count": 5,
   "metadata": {},
   "outputs": [],
   "source": [
    "def solve_1d_linearconv_pure(u, un, nt, nx, dt, dx, c):\n",
    "\n",
    "    #fill the update of u\n",
    "    \n",
    "    L=c*dt/dx\n",
    "    for j in range(nt):\n",
    "        un=[u[i] for i in range(nx)]\n",
    "        for i in range(nx-1): \n",
    "            u[i+1]=(1-L)*un[i+1] +L*un[i]   # or un[i]=(1-L)*un[i] +L*un[i-1]  \"and for start from 1 \"\n",
    "    return 0"
   ]
  },
  {
   "cell_type": "markdown",
   "metadata": {},
   "source": [
    "## Numba accelerator"
   ]
  },
  {
   "cell_type": "code",
   "execution_count": 6,
   "metadata": {},
   "outputs": [],
   "source": [
    "@jit(fastmath=True,parallel=True)\n",
    "def solve_1d_linearconv_numba(u, un, nt, nx, dt, dx, c):\n",
    "\n",
    "    for j in prange(nt):\n",
    "        un=u.copy()\n",
    "        for i in prange(nx-1): \n",
    "            u[i+1]=(1-c*dt/dx)*un[i+1] +c*dt/dx*un[i]   # or un[i]=(1-L)*un[i] +L*un[i-1]  \"and for start from 1 \"\n",
    "\n",
    "    #fill the update of u\n",
    "    return 0"
   ]
  },
  {
   "cell_type": "markdown",
   "metadata": {},
   "source": [
    "## Pyccel accelerator"
   ]
  },
  {
   "cell_type": "code",
   "execution_count": 7,
   "metadata": {},
   "outputs": [],
   "source": [
    "@types('float[:]', 'float[:]','int','int','float','float','float')\n",
    "def solve_1d_linearconv_f90(u, un, nt, nx, dt, dx, c):\n",
    "    for j in range(nt):\n",
    "        un[:]=u[:]\n",
    "        for i in range(nx-1): \n",
    "            u[i+1]=(1-c*(dt/dx))*un[i+1] +c*(dt/dx)*un[i]   # or un[i]=(1-L)*un[i] +L*un[i-1]  \"and for start from 1 \"\n",
    "    return 0\n",
    "   "
   ]
  },
  {
   "cell_type": "markdown",
   "metadata": {},
   "source": [
    "## Inputs"
   ]
  },
  {
   "cell_type": "code",
   "execution_count": 8,
   "metadata": {},
   "outputs": [
    {
     "data": {
      "text/plain": [
       "<matplotlib.legend.Legend at 0x7f70d333b3d0>"
      ]
     },
     "execution_count": 8,
     "metadata": {},
     "output_type": "execute_result"
    },
    {
     "data": {
      "image/png": "[encoded data removed]",
      "text/plain": [
       "<Figure size 432x288 with 1 Axes>"
      ]
     },
     "metadata": {
      "needs_background": "light"
     },
     "output_type": "display_data"
    }
   ],
   "source": [
    "nx = 201  # try changing this number from 41 to 81 and Run All ... what happens?\n",
    "dx = 2 / (nx-1)\n",
    "nt = 200    #nt is the number of timesteps we want to calculate\n",
    "c = 1.0     #assume wavespeed of c = 1\n",
    "dt = 0.004\n",
    "grid = np.linspace(0,2,nx) # creating the space grid    \n",
    "\n",
    "u0 = np.ones(nx)      #numpy function ones()\n",
    "u0[int(.5 / dx):int(1 / dx + 1)] = 2  #setting u = 2 between 0.5 and 1 as per our I.C.s\n",
    "#plt.plot(grid,u0)\n",
    "u = u0.copy()\n",
    "un = np.ones(nx)\n",
    "\n",
    "solve_1d_linearconv_pure(u, un, nt, nx, dt, dx, c)\n",
    "\n",
    "\n",
    "#Plotting data\n",
    "plt.plot(grid,u0,label=\"exact u0\")\n",
    "plt.plot(grid,u,label=\"numerical\")\n",
    "plt.ylim([1.,2.2])\n",
    "plt.xlim([0,5])\n",
    "plt.xlabel('X')\n",
    "plt.ylabel('Velocity')    \n",
    "plt.title('1D Linear Convection')\n",
    "plt.legend()\n"
   ]
  },
  {
   "cell_type": "markdown",
   "metadata": {},
   "source": [
    "## Call Funtions"
   ]
  },
  {
   "cell_type": "markdown",
   "metadata": {},
   "source": [
    "### Pure function"
   ]
  },
  {
   "cell_type": "code",
   "execution_count": 9,
   "metadata": {},
   "outputs": [
    {
     "name": "stdout",
     "output_type": "stream",
     "text": [
      "19.7 ms ± 211 µs per loop (mean ± std. dev. of 7 runs, 10 loops each)\n"
     ]
    }
   ],
   "source": [
    "%timeit solve_1d_linearconv_pure(u, un, nt, nx, dt, dx, c)"
   ]
  },
  {
   "cell_type": "markdown",
   "metadata": {},
   "source": [
    "### Function with numba accelerator"
   ]
  },
  {
   "cell_type": "code",
   "execution_count": 10,
   "metadata": {},
   "outputs": [
    {
     "name": "stdout",
     "output_type": "stream",
     "text": [
      "45.9 µs ± 9.85 µs per loop (mean ± std. dev. of 7 runs, 1 loop each)\n"
     ]
    }
   ],
   "source": [
    "%timeit solve_1d_linearconv_numba(u, un, nt, nx, dt, dx, c)"
   ]
  },
  {
   "cell_type": "markdown",
   "metadata": {},
   "source": [
    "\n",
    "### Function with pyccel accelerator"
   ]
  },
  {
   "cell_type": "code",
   "execution_count": 11,
   "metadata": {},
   "outputs": [],
   "source": [
    "solve_1d_linearconv_f90 = epyccel(solve_1d_linearconv_f90 )\n"
   ]
  },
  {
   "cell_type": "code",
   "execution_count": 12,
   "metadata": {},
   "outputs": [
    {
     "name": "stdout",
     "output_type": "stream",
     "text": [
      "18.7 µs ± 30.1 ns per loop (mean ± std. dev. of 7 runs, 100000 loops each)\n"
     ]
    }
   ],
   "source": [
    "%timeit solve_1d_linearconv_f90(u, un, nt, nx, dt, dx, c)"
   ]
  },
  {
   "cell_type": "code",
   "execution_count": null,
   "metadata": {
    "collapsed": true
   },
   "outputs": [],
   "source": []
  },
  {
   "cell_type": "markdown",
   "metadata": {},
   "source": [
    "# Another example with OpenMP"
   ]
  },
  {
   "cell_type": "code",
   "execution_count": 17,
   "metadata": {},
   "outputs": [],
   "source": [
    "@types('float[:,:](order=C)','float[:,:](order=F)','float[:,:](order=C)')\n",
    "def dot(a, b, c):\n",
    "    m, p = a.shape\n",
    "    q, n = b.shape\n",
    "    r, s = c.shape\n",
    "    if p != q or m != r or n != s:\n",
    "        return-1\n",
    "    #$ omp parallel\n",
    "    #$ omp do schedule(runtime)\n",
    "    for i in range(m):\n",
    "        for j in range(n):\n",
    "            c[i, j] = 0.0\n",
    "            for k in range(p):\n",
    "                c[i, j] += a[i, k] * b[k, j]\n",
    "    #$ omp end do\n",
    "    #$ omp end parallel\n",
    "    return 0"
   ]
  },
  {
   "cell_type": "code",
   "execution_count": 18,
   "metadata": {},
   "outputs": [
    {
     "name": "stdout",
     "output_type": "stream",
     "text": [
      "1.36 ms ± 37.5 µs per loop (mean ± std. dev. of 7 runs, 1000 loops each)\n"
     ]
    }
   ],
   "source": [
    "\n",
    "dot_f90 = epyccel(dot, accelerator='openmp')\n",
    "m, n, p = 100, 150, 200\n",
    "a = np.random.random((m, p))\n",
    "b = np.random.random((n, p)).transpose()\n",
    "%timeit c = np.empty((m, n)); dot_f90(a, b, c)"
   ]
  },
  {
   "cell_type": "code",
   "execution_count": 19,
   "metadata": {},
   "outputs": [],
   "source": []
  },
  {
   "cell_type": "code",
   "execution_count": null,
   "metadata": {},
   "outputs": [],
   "source": []
  }
 ],
 "metadata": {
  "kernelspec": {
   "display_name": "Python 3",
   "language": "python",
   "name": "python3"
  },
  "language_info": {
   "codemirror_mode": {
    "name": "ipython",
    "version": 3
   },
   "file_extension": ".py",
   "mimetype": "text/x-python",
   "name": "python",
   "nbconvert_exporter": "python",
   "pygments_lexer": "ipython3",
   "version": "3.8.5"
  }
 },
 "nbformat": 4,
 "nbformat_minor": 2
}
