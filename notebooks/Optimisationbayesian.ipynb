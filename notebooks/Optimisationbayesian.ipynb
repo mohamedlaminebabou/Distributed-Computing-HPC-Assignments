{
 "cells": [
  {
   "cell_type": "code",
   "execution_count": 2,
   "metadata": {},
   "outputs": [],
   "source": [
    "from  math import sin, pi\n",
    "import matplotlib.pyplot as plt \n",
    "import scipy as sp\n",
    "import numpy as np\n",
    "from matplotlib import pyplot"
   ]
  },
  {
   "cell_type": "code",
   "execution_count": 3,
   "metadata": {},
   "outputs": [
    {
     "name": "stdout",
     "output_type": "stream",
     "text": [
      "CPU times: user 7 µs, sys: 2 µs, total: 9 µs\n",
      "Wall time: 16.2 µs\n"
     ]
    }
   ],
   "source": [
    "# objective function\n",
    "%time\n",
    "def f(x, noise=0.1):\n",
    "    noise = np.random.normal(loc=0, scale=noise) \n",
    "    return (x**2 * sin(5 * pi * x)**6.0) + noise"
   ]
  },
  {
   "cell_type": "code",
   "execution_count": 4,
   "metadata": {},
   "outputs": [],
   "source": [
    "x=np.arange(0,1,0.01)"
   ]
  },
  {
   "cell_type": "code",
   "execution_count": 5,
   "metadata": {},
   "outputs": [],
   "source": [
    "y=np.asarray([f(x[i]) for i in range(len(x))])"
   ]
  },
  {
   "cell_type": "code",
   "execution_count": 6,
   "metadata": {},
   "outputs": [],
   "source": [
    "y0=np.asarray([f(x[i],0) for i in range(len(x))])"
   ]
  },
  {
   "cell_type": "code",
   "execution_count": 7,
   "metadata": {},
   "outputs": [
    {
     "name": "stdout",
     "output_type": "stream",
     "text": [
      "Optima: x=0.920, y=0.864\n"
     ]
    },
    {
     "data": {
      "application/vnd.jupyter.widget-view+json": {
       "model_id": "f97f6b032bc744d6a89bf92199b2cec2",
       "version_major": 2,
       "version_minor": 0
      },
      "text/plain": [
       "Canvas(toolbar=Toolbar(toolitems=[('Home', 'Reset original view', 'home', 'home'), ('Back', 'Back to previous …"
      ]
     },
     "metadata": {},
     "output_type": "display_data"
    }
   ],
   "source": [
    "%matplotlib widget\n",
    "xm= np.argmax(y)\n",
    "print('Optima: x=%.3f, y=%.3f' % (x[xm], y[xm]))\n",
    "# plot the points with noise\n",
    "pyplot.scatter(x, y)\n",
    "# plot the points without noise\n",
    "pyplot.plot(x, y0)\n",
    "# show the plot\n",
    "pyplot.show()"
   ]
  },
  {
   "cell_type": "code",
   "execution_count": 8,
   "metadata": {},
   "outputs": [],
   "source": [
    "g=lambda x: x**3 -2*x\n",
    "gpr=lambda x: 3*x**2 -2\n",
    "\n"
   ]
  },
  {
   "cell_type": "code",
   "execution_count": 9,
   "metadata": {},
   "outputs": [],
   "source": [
    "x1=np.linspace(-3,3,100)"
   ]
  },
  {
   "cell_type": "code",
   "execution_count": 11,
   "metadata": {},
   "outputs": [
    {
     "data": {
      "application/vnd.jupyter.widget-view+json": {
       "model_id": "f0ffe895e26243e58eb4795713ef4884",
       "version_major": 2,
       "version_minor": 0
      },
      "text/plain": [
       "interactive(children=(IntSlider(value=49, description='i', max=99), Output(layout=Layout(height='350px'))), _d…"
      ]
     },
     "metadata": {},
     "output_type": "display_data"
    }
   ],
   "source": [
    "%matplotlib widget\n",
    "from ipywidgets import interactive\n",
    "import matplotlib.pyplot as plt\n",
    "import numpy as np\n",
    "\n",
    "def f(i):\n",
    "    plt.figure(2)\n",
    "    plt.plot(x1,g(x1))\n",
    "    plt.plot(x1, g(x1[i])+gpr(x1[i])*(x1-x1[i]))\n",
    "    plt.show()\n",
    "    \n",
    "  \n",
    "interactive_plot = interactive(f, i=(0, len(x1)-1))\n",
    "output = interactive_plot.children[-1]\n",
    "output.layout.height = '350px'\n",
    "interactive_plot\n",
    "\n"
   ]
  }
 ],
 "metadata": {
  "kernelspec": {
   "display_name": "Python 3",
   "language": "python",
   "name": "python3"
  },
  "language_info": {
   "codemirror_mode": {
    "name": "ipython",
    "version": 3
   },
   "file_extension": ".py",
   "mimetype": "text/x-python",
   "name": "python",
   "nbconvert_exporter": "python",
   "pygments_lexer": "ipython3",
   "version": "3.8.5"
  }
 },
 "nbformat": 4,
 "nbformat_minor": 4
}
