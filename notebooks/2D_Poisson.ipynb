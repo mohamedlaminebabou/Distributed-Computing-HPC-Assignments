{
 "cells": [
  {
   "cell_type": "markdown",
   "metadata": {},
   "source": [
    "## Imports"
   ]
  },
  {
   "cell_type": "code",
   "execution_count": 5,
   "metadata": {},
   "outputs": [],
   "source": [
    "import numpy as np\n",
    "from matplotlib import pyplot, cm\n",
    "from mpl_toolkits.mplot3d import Axes3D\n",
    "import time\n",
    "from numba import njit\n",
    "from pyccel.epyccel import epyccel\n",
    "from pyccel.decorators import types"
   ]
  },
  {
   "cell_type": "markdown",
   "metadata": {},
   "source": [
    "## Pure python function"
   ]
  },
  {
   "cell_type": "code",
   "execution_count": 6,
   "metadata": {},
   "outputs": [],
   "source": [
    "def solve_2d_poisson_pure(p, pd, b, nx, ny, nt, dx, dy):\n",
    "    \n",
    "    row, col = p.shape\n",
    "    # Source\n",
    "    b[int(ny / 4), int(nx / 4)]  = 100\n",
    "    b[int(3 * ny / 4), int(3 * nx / 4)] = -100\n",
    "    \n",
    "    \n",
    "    for it in range(nt):\n",
    "        for i in range(nx): pd[i] = p[i]\n",
    "        for j in range(2, row):\n",
    "            for i in range(2, col):\n",
    "                p[j-1, i-1] = (((pd[j-1, i] + pd[j-1, i-2]) * dy**2 +\n",
    "                                (pd[j, i-1] + pd[j-2, i-1]) * dx**2 -\n",
    "                                b[j-1, i-1] * dx**2 * dy**2) / \n",
    "                                (2 * (dx**2 + dy**2)))\n",
    "        p[0, :] = 0\n",
    "        p[ny-1, :] = 0\n",
    "        p[:, 0] = 0\n",
    "        p[:, nx-1] = 0\n",
    "        \n",
    "    return 0"
   ]
  },
  {
   "cell_type": "markdown",
   "metadata": {},
   "source": [
    "## Numba accelerator"
   ]
  },
  {
   "cell_type": "code",
   "execution_count": 3,
   "metadata": {},
   "outputs": [],
   "source": [
    "@njit(fastmath=True)\n",
    "def solve_2d_poisson_numba(p, pd, b, nx, ny, nt, dx, dy):\n",
    "    \n",
    "    row, col = p.shape\n",
    "    # Source\n",
    "    b[int(ny / 4), int(nx / 4)]  = 100\n",
    "    b[int(3 * ny / 4), int(3 * nx / 4)] = -100\n",
    "    \n",
    "    \n",
    "    for it in range(nt):\n",
    "        for i in range(nx): pd[i] = p[i]\n",
    "        for j in range(2, row):\n",
    "            for i in range(2, col):\n",
    "                p[j-1, i-1] = (((pd[j-1, i] + pd[j-1, i-2]) * dy**2 +\n",
    "                                (pd[j, i-1] + pd[j-2, i-1]) * dx**2 -\n",
    "                                b[j-1, i-1] * dx**2 * dy**2) / \n",
    "                                (2 * (dx**2 + dy**2)))\n",
    "        p[0, :] = 0\n",
    "        p[ny-1, :] = 0\n",
    "        p[:, 0] = 0\n",
    "        p[:, nx-1] = 0\n",
    "        \n",
    "    return 0"
   ]
  },
  {
   "cell_type": "markdown",
   "metadata": {},
   "source": [
    "## Pyccel accelerator"
   ]
  },
  {
   "cell_type": "code",
   "execution_count": 4,
   "metadata": {},
   "outputs": [],
   "source": [
    "@types('float[:,:]', 'float[:,:]','float[:,:]', 'int', 'int', 'int','float', 'float')\n",
    "def solve_2d_poisson_pyccel(p, pd, b, nx, ny, nt, dx, dy):\n",
    "    \n",
    "    row, col = p.shape\n",
    "    # Source\n",
    "    b[int(ny / 4), int(nx / 4)]  = 100\n",
    "    b[int(3 * ny / 4), int(3 * nx / 4)] = -100\n",
    "    \n",
    "    \n",
    "    for it in range(nt):\n",
    "        for i in range(nx): pd[i] = p[i]\n",
    "        for j in range(2, row):\n",
    "            for i in range(2, col):\n",
    "                p[j-1, i-1] = (((pd[j-1, i] + pd[j-1, i-2]) * dy**2 +\n",
    "                                (pd[j, i-1] + pd[j-2, i-1]) * dx**2 -\n",
    "                                b[j-1, i-1] * dx**2 * dy**2) / \n",
    "                                (2 * (dx**2 + dy**2)))\n",
    "        p[0, :] = 0\n",
    "        p[ny-1, :] = 0\n",
    "        p[:, 0] = 0\n",
    "        p[:, nx-1] = 0\n",
    "        \n",
    "    return 0"
   ]
  },
  {
   "cell_type": "markdown",
   "metadata": {},
   "source": [
    "## Inputs"
   ]
  },
  {
   "cell_type": "code",
   "execution_count": null,
   "metadata": {},
   "outputs": [],
   "source": [
    "###variable declarations\n",
    "nx = 50\n",
    "ny = 50\n",
    "nt  = 100\n",
    "xmin = 0\n",
    "xmax = 2\n",
    "ymin = 0\n",
    "ymax = 1\n",
    "\n",
    "dx = (xmax - xmin) / (nx - 1)\n",
    "dy = (ymax - ymin) / (ny - 1)\n",
    "\n",
    "# Initialization\n",
    "p  = np.zeros((ny, nx))\n",
    "pd = np.zeros((ny, nx))\n",
    "b  = np.zeros((ny, nx))\n",
    "x  = np.linspace(xmin, xmax, nx)\n",
    "y  = np.linspace(xmin, xmax, ny)\n",
    "\n",
    "solve_2d_poisson_pure(p, pd, b, nx, ny, nt, dx, dy)\n",
    "\n",
    "fig = pyplot.figure(figsize=(10, 7), dpi=100)\n",
    "ax = fig.gca(projection='3d')\n",
    "X, Y = np.meshgrid(x, y)\n",
    "surf = ax.plot_surface(X, Y, p, rstride=1, cstride=1, cmap=cm.viridis, linewidth=0, antialiased=False)\n",
    "ax.view_init(30, 225)\n",
    "ax.set_xlabel('$x$')\n",
    "ax.set_ylabel('$y$')"
   ]
  },
  {
   "cell_type": "markdown",
   "metadata": {},
   "source": [
    "## Call Funtions"
   ]
  },
  {
   "cell_type": "markdown",
   "metadata": {},
   "source": [
    "### Pure function"
   ]
  },
  {
   "cell_type": "code",
   "execution_count": null,
   "metadata": {},
   "outputs": [],
   "source": [
    "%timeit solve_2d_poisson_pure(p, pd, b, nx, ny, nt, dx, dy)"
   ]
  },
  {
   "cell_type": "markdown",
   "metadata": {},
   "source": [
    "### Function with numba accelerator"
   ]
  },
  {
   "cell_type": "code",
   "execution_count": null,
   "metadata": {},
   "outputs": [],
   "source": [
    "%timeit solve_2d_poisson_numba(p, pd, b, nx, ny, nt, dx, dy)"
   ]
  },
  {
   "cell_type": "markdown",
   "metadata": {},
   "source": [
    "### Function with pyccel accelerator"
   ]
  },
  {
   "cell_type": "code",
   "execution_count": null,
   "metadata": {},
   "outputs": [],
   "source": [
    "solve_2d_poisson_f90 = epyccel(solve_2d_poisson_pyccel)"
   ]
  },
  {
   "cell_type": "code",
   "execution_count": null,
   "metadata": {},
   "outputs": [],
   "source": [
    "%timeit solve_2d_poisson_f90(p, pd, b, nx, ny, nt, dx, dy)"
   ]
  }
 ],
 "metadata": {
  "kernelspec": {
   "display_name": "Python 3",
   "language": "python",
   "name": "python3"
  },
  "language_info": {
   "codemirror_mode": {
    "name": "ipython",
    "version": 3
   },
   "file_extension": ".py",
   "mimetype": "text/x-python",
   "name": "python",
   "nbconvert_exporter": "python",
   "pygments_lexer": "ipython3",
   "version": "3.8.5"
  }
 },
 "nbformat": 4,
 "nbformat_minor": 2
}
